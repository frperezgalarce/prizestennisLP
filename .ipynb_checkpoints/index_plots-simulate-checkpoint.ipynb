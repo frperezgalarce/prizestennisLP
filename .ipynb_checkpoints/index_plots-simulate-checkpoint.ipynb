{
 "cells": [
  {
   "cell_type": "code",
   "execution_count": 1,
   "metadata": {},
   "outputs": [],
   "source": [
    "import pandas as pd\n",
    "import matplotlib.pyplot as plt\n",
    "import numpy as np\n",
    "SMALL_SIZE = 18\n",
    "MEDIUM_SIZE = 22\n",
    "BIGGER_SIZE = 22\n",
    "plt.rc('font', size=MEDIUM_SIZE)          # controls default text sizes\n",
    "plt.rc('axes', titlesize=MEDIUM_SIZE)     # fontsize of the axes title\n",
    "plt.rc('axes', labelsize=MEDIUM_SIZE)    # fontsize of the x and y labels\n",
    "plt.rc('xtick', labelsize=MEDIUM_SIZE)    # fontsize of the tick labels\n",
    "plt.rc('ytick', labelsize=MEDIUM_SIZE)    # fontsize of the tick labels\n",
    "plt.rc('legend', fontsize=MEDIUM_SIZE)    # legend fontsize\n",
    "plt.rc('figure', titlesize=BIGGER_SIZE)  # fontsize of the figure title\n",
    "from scipy.optimize import linprog"
   ]
  },
  {
   "cell_type": "markdown",
   "metadata": {},
   "source": [
    "$p_{i} = \\sigma_{i}(\\pi \\epsilon_{i} + \\mu_{i})$"
   ]
  },
  {
   "cell_type": "code",
   "execution_count": 2,
   "metadata": {},
   "outputs": [],
   "source": [
    "def index(pi=2, sigma=1, mu=0.5, epsilon=1): \n",
    "    index = sigma*(pi*epsilon+mu)\n",
    "    return index\n",
    "\n",
    "def plot_index_pi(function): \n",
    "    t1 = np.arange(0.0, 5.0, 0.2)\n",
    "    plt.figure(figsize=(10,10))\n",
    "    plt.plot(t1, function(pi=t1), 'o--', label='$\\sigma_i$ = 1', color='black', markersize=10)\n",
    "    plt.plot(t1, function(pi=t1, sigma=2), '+--', label='$\\sigma_i$ = 2', color='black', markersize=10)\n",
    "    plt.plot(t1, function(pi=t1, sigma=3), '<--', label='$\\sigma_i$ = 3', color='black', markersize=10)\n",
    "    plt.plot(t1, function(pi=t1, sigma=4), '*--', label='$\\sigma_i$ = 4', color='black', markersize=10)\n",
    "    plt.xlabel('$\\pi_i$')\n",
    "    plt.ylabel('$p_i$')\n",
    "    plt.legend()\n",
    "    plt.show()\n",
    "    \n",
    "    \n",
    "def plot_index_mu(function): \n",
    "    plt.figure(figsize=(10,10))\n",
    "    t1 = np.arange(0.0, 6/7, 0.04)\n",
    "    plt.plot(t1, function(mu=t1), 'o--', label='$\\sigma_i$ = 1', color='black', markersize=10)\n",
    "    plt.plot(t1, function(mu=t1, sigma=2), '+--', label='$\\sigma_i$ = 2', color='black',markersize=10)\n",
    "    plt.plot(t1, function(mu=t1, sigma=3), '<--', label='$\\sigma_i$ = 3', color='black',markersize=10)\n",
    "    plt.plot(t1, function(mu=t1, sigma=4), '*--', label='$\\sigma_i$ = 4', color='black',markersize=10)\n",
    "    plt.xlabel('$\\mu_i$')\n",
    "    plt.ylabel('$p_i$')\n",
    "    plt.ylim(0,20)\n",
    "    plt.legend()\n",
    "    plt.show()"
   ]
  },
  {
   "cell_type": "code",
   "execution_count": 3,
   "metadata": {},
   "outputs": [],
   "source": [
    "def tennis_model(alpha1 = 0.7, alpha2 = 0.95, lambda1 = 0.1, lambda2 = 0.15, gamma = 0.8, nu = 0.9, beta = 1.7):\n",
    "    obj = [-1, 0, 0, 0, 0, 0, 0, 0]\n",
    "    lhs_ineq = [[alpha1,  0, 0, 0, 0, 0, 0, -1],  # (2)\n",
    "                [-alpha2,  0, 0, 0, 0, 0, 0, 1], \n",
    "               [0,  0, 0, 0, 0, 0, 0, -1], \n",
    "               [0,  0, 0, 0, 0, 0, 0, 1], \n",
    "               [gamma,  -1, 0, 0, 0, 0, 0, 0], \n",
    "               [0, gamma,  -1, 0, 0, 0, 0, 0], \n",
    "               [0, 0, gamma,  -1, 0, 0, 0, 0],\n",
    "               [0, 0, 0, gamma,  -1, 0, 0, 0], \n",
    "               [0, 0, 0, 0, gamma,  -1, 0, 0], \n",
    "               [0, 0, 0, 0, 0, gamma,  -1, 0], \n",
    "               [-nu,  1, 0, 0, 0, 0, 0, 0], \n",
    "               [0, -nu,  1, 0, 0, 0, 0, 0], \n",
    "               [0, 0, -nu,  1, 0, 0, 0, 0],\n",
    "               [0, 0, 0, -nu,  1, 0, 0, 0], \n",
    "               [0, 0, 0, 0, -nu,  1, 0, 0], \n",
    "               [0, 0, 0, 0, 0, -nu,  1, 0], \n",
    "               [0, 0, 0, 0, 0, 0,  beta, -1], \n",
    "               [0, 0, 0, 0, 0, 0,  -2, 1]]  # Yellow constraint left side\n",
    "\n",
    "    rhs_ineq = [0,  # Red constraint right side\n",
    "                0, \n",
    "               -lambda1,\n",
    "               lambda2, \n",
    "               0, \n",
    "               0, \n",
    "               0, \n",
    "               0, \n",
    "               0, \n",
    "               0,\n",
    "               0, \n",
    "               0, \n",
    "               0, \n",
    "               0, \n",
    "               0, \n",
    "               0, \n",
    "               0, \n",
    "               0]  # Yellow constraint right side\n",
    "\n",
    "    lhs_eq = [[1, 1, 1, 1, 1, 1, 1, 1]]  # Green constraint left side\n",
    "    rhs_eq = [1]       # Green constraint right side\n",
    "\n",
    "    bnd = [(0, float(\"inf\")),  # Bounds of x\n",
    "            (0, float(\"inf\")), \n",
    "          (0, float(\"inf\")), \n",
    "          (0, float(\"inf\")), \n",
    "          (0, float(\"inf\")), \n",
    "          (0, float(\"inf\")), \n",
    "          (0, float(\"inf\")), \n",
    "          (0, float(\"inf\"))]  # Bounds of y\n",
    "    \n",
    "    opt = linprog(c=obj, A_ub=lhs_ineq, b_ub=rhs_ineq,\n",
    "              A_eq=lhs_eq, b_eq=rhs_eq, bounds=bnd,\n",
    "    )\n",
    "\n",
    "    print(opt.x)\n",
    "    plt.figure(figsize=(10,10))\n",
    "    x = [i for i in range(1,9)]\n",
    "    y = opt.x\n",
    "    plt.plot(x, pd.DataFrame(y, columns=['prize per round'])['prize per round'].cumsum(), 'x-.', color='black', label='set 1')\n",
    "    plt.ylim(0,1)\n",
    "    plt.xlabel('$k$')\n",
    "    plt.legend()\n",
    "    plt.show()\n",
    "    \n",
    "    return opt.x"
   ]
  },
  {
   "cell_type": "code",
   "execution_count": 4,
   "metadata": {},
   "outputs": [
    {
     "name": "stdout",
     "output_type": "stream",
     "text": [
      "[0.20734036 0.16587229 0.13269783 0.10615826 0.08959151 0.08063236\n",
      " 0.07256913 0.14513825]\n"
     ]
    },
    {
     "data": {
      "image/png": "[encoded data removed]",
      "text/plain": [
       "<Figure size 720x720 with 1 Axes>"
      ]
     },
     "metadata": {
      "needs_background": "light"
     },
     "output_type": "display_data"
    }
   ],
   "source": [
    "sol = tennis_model(alpha1 = 0.7, alpha2 = 0.95, lambda1 = 0.1, lambda2 = 0.25, gamma = 0.8, nu = 0.9, beta = 1.7)"
   ]
  }
 ],
 "metadata": {
  "kernelspec": {
   "display_name": "Python 3",
   "language": "python",
   "name": "python3"
  },
  "language_info": {
   "codemirror_mode": {
    "name": "ipython",
    "version": 3
   },
   "file_extension": ".py",
   "mimetype": "text/x-python",
   "name": "python",
   "nbconvert_exporter": "python",
   "pygments_lexer": "ipython3",
   "version": "3.7.7"
  }
 },
 "nbformat": 4,
 "nbformat_minor": 2
}
